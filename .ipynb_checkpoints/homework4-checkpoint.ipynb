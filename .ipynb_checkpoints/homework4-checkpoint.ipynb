{
 "cells": [
  {
   "cell_type": "code",
   "execution_count": 1,
   "metadata": {},
   "outputs": [],
   "source": [
    "# Tiago Moreira Trocoli da Cunha\n",
    "# number: 226078\n",
    "# python 3\n",
    "\n",
    "import cv2\n",
    "import scipy as sp\n",
    "from scipy import misc\n",
    "from scipy import ndimage\n",
    "import numpy as np\n",
    "import matplotlib.pyplot as plt\n",
    "import matplotlib.cm as cm\n",
    "import matplotlib as mat\n",
    "import skimage as sk\n",
    "\n",
    "\n",
    "# 1) Load Images and converting them into grayscale\n",
    "image1 = cv2.imread('foto1A.jpg')\n",
    "image2 = cv2.imread('foto1B.jpg')\n",
    "gray1 = cv2.imread('foto1A.jpg',cv2.IMREAD_GRAYSCALE)\n",
    "gray2 = cv2.imread('foto1B.jpg',cv2.IMREAD_GRAYSCALE)"
   ]
  },
  {
   "cell_type": "code",
   "execution_count": 3,
   "metadata": {},
   "outputs": [],
   "source": [
    "# 2) \n",
    "def scale_invariante_feature(image1, image2, gray1, gray2):\n",
    "    sift = cv2.xfeatures2d.SIFT_create()\n",
    "    kp = sift.detect(gray1,None)\n",
    "    img=cv2.drawKeypoints(gray1,kp,image1)\n",
    "    cv2.imwrite('sift_keypoints.jpg',img)\n",
    "    \n",
    "scale_invariante_feature(image1, image2, gray1, gray2)"
   ]
  },
  {
   "cell_type": "code",
   "execution_count": 5,
   "metadata": {},
   "outputs": [
    {
     "name": "stdout",
     "output_type": "stream",
     "text": [
      "shift_image.jpg\n"
     ]
    }
   ],
   "source": [
    "blo = \"image.jpg\"\n",
    "blob = \"shift_\"+blo\n",
    "print(blob)"
   ]
  },
  {
   "cell_type": "code",
   "execution_count": null,
   "metadata": {},
   "outputs": [],
   "source": []
  }
 ],
 "metadata": {
  "kernelspec": {
   "display_name": "tensorflow_env",
   "language": "python",
   "name": "tensorflow_env"
  },
  "language_info": {
   "codemirror_mode": {
    "name": "ipython",
    "version": 3
   },
   "file_extension": ".py",
   "mimetype": "text/x-python",
   "name": "python",
   "nbconvert_exporter": "python",
   "pygments_lexer": "ipython3",
   "version": "3.7.3"
  }
 },
 "nbformat": 4,
 "nbformat_minor": 2
}
